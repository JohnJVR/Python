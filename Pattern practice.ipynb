{
 "cells": [
  {
   "cell_type": "code",
   "execution_count": 1,
   "id": "1e330099",
   "metadata": {},
   "outputs": [
    {
     "name": "stdout",
     "output_type": "stream",
     "text": [
      "enter the value os rows: 5\n",
      "1\n",
      "1\n",
      "2\n",
      "1\n",
      "2\n",
      "3\n",
      "1\n",
      "2\n",
      "3\n",
      "4\n",
      "1\n",
      "2\n",
      "3\n",
      "4\n",
      "5\n"
     ]
    }
   ],
   "source": [
    "rows=int(input(\"enter the value os rows: \"))\n",
    "for i in range(1,rows+1): # For row \n",
    "    for j in range(1,i+1): # For column\n",
    "        print(j)"
   ]
  },
  {
   "cell_type": "code",
   "execution_count": 2,
   "id": "391f9472",
   "metadata": {},
   "outputs": [
    {
     "name": "stdout",
     "output_type": "stream",
     "text": [
      "enter the value os rows: 5\n",
      "1 1 2 1 2 3 1 2 3 4 1 2 3 4 5 "
     ]
    }
   ],
   "source": [
    "rows=int(input(\"enter the value os rows: \"))\n",
    "for i in range(1,rows+1): # For row \n",
    "    for j in range(1,i+1): # For column\n",
    "        print(j, end=\" \") # it end replaces n "
   ]
  },
  {
   "cell_type": "code",
   "execution_count": 3,
   "id": "7c11bedb",
   "metadata": {},
   "outputs": [
    {
     "name": "stdout",
     "output_type": "stream",
     "text": [
      "enter the value os rows: 5\n",
      "1 \n",
      "1 2 \n",
      "1 2 3 \n",
      "1 2 3 4 \n",
      "1 2 3 4 5 \n"
     ]
    }
   ],
   "source": [
    "rows=int(input(\"enter the value os rows: \"))\n",
    "for i in range(1,rows+1): # For row \n",
    "    for j in range(1,i+1): # For column\n",
    "        print(j, end=\" \") # it end replaces n \n",
    "    print()"
   ]
  },
  {
   "cell_type": "code",
   "execution_count": 4,
   "id": "4fea9d67",
   "metadata": {},
   "outputs": [
    {
     "name": "stdout",
     "output_type": "stream",
     "text": [
      "enter the value os rows: 5\n",
      "1 \n",
      "2 2 \n",
      "3 3 3 \n",
      "4 4 4 4 \n",
      "5 5 5 5 5 \n"
     ]
    }
   ],
   "source": [
    "rows=int(input(\"enter the value os rows: \"))\n",
    "for i in range(1,rows+1): # For row \n",
    "    for j in range(1,i+1): # For column\n",
    "        print(i, end=\" \") # it end replaces n \n",
    "    print()"
   ]
  },
  {
   "cell_type": "code",
   "execution_count": 5,
   "id": "c74188d4",
   "metadata": {},
   "outputs": [
    {
     "name": "stdout",
     "output_type": "stream",
     "text": [
      "enter the value os rows: 5\n",
      "* \n",
      "* * \n",
      "* * * \n",
      "* * * * \n",
      "* * * * * \n"
     ]
    }
   ],
   "source": [
    "rows=int(input(\"enter the value os rows: \"))\n",
    "for i in range(1,rows+1): # For row \n",
    "    for j in range(1,i+1): # For column\n",
    "        print(\"*\", end=\" \") # it end replaces n \n",
    "    print()"
   ]
  },
  {
   "cell_type": "code",
   "execution_count": 6,
   "id": "dc343de6",
   "metadata": {},
   "outputs": [
    {
     "name": "stdout",
     "output_type": "stream",
     "text": [
      "enter the value os rows: 5\n",
      "\n",
      "* \n",
      "* * \n",
      "* * * \n",
      "* * * * \n"
     ]
    }
   ],
   "source": [
    "rows=int(input(\"enter the value os rows: \"))\n",
    "for i in range(1,rows+1): # For row \n",
    "    for j in range(1,i*1): # For column\n",
    "        print(\"i\", end=\" \") # it end replaces n \n",
    "    print()"
   ]
  },
  {
   "cell_type": "code",
   "execution_count": 7,
   "id": "a91c76ba",
   "metadata": {},
   "outputs": [
    {
     "name": "stdout",
     "output_type": "stream",
     "text": [
      "enter the value os rows: 5\n",
      "\n",
      "i \n",
      "i i \n",
      "i i i \n",
      "i i i i \n"
     ]
    }
   ],
   "source": [
    "rows=int(input(\"enter the value os rows: \"))\n",
    "for i in range(1,rows+1): # For row \n",
    "    for j in range(1,i*1): # For column and changed from + to * \n",
    "        print(\"i\", end=\" \") # it end replaces n \n",
    "    print()"
   ]
  },
  {
   "cell_type": "code",
   "execution_count": 8,
   "id": "fdf0d65d",
   "metadata": {},
   "outputs": [
    {
     "name": "stdout",
     "output_type": "stream",
     "text": [
      "enter the value os rows: 5\n",
      "\n",
      "j \n",
      "j j \n",
      "j j j \n",
      "j j j j \n"
     ]
    }
   ],
   "source": [
    "rows=int(input(\"enter the value os rows: \"))\n",
    "for i in range(1,rows+1): # For row \n",
    "    for j in range(1,i*1): # For column\n",
    "        print(\"j\", end=\" \") # it end replaces n \n",
    "    print()"
   ]
  },
  {
   "cell_type": "code",
   "execution_count": null,
   "id": "2694fd1f",
   "metadata": {},
   "outputs": [],
   "source": []
  }
 ],
 "metadata": {
  "kernelspec": {
   "display_name": "Python 3 (ipykernel)",
   "language": "python",
   "name": "python3"
  },
  "language_info": {
   "codemirror_mode": {
    "name": "ipython",
    "version": 3
   },
   "file_extension": ".py",
   "mimetype": "text/x-python",
   "name": "python",
   "nbconvert_exporter": "python",
   "pygments_lexer": "ipython3",
   "version": "3.8.8"
  }
 },
 "nbformat": 4,
 "nbformat_minor": 5
}
