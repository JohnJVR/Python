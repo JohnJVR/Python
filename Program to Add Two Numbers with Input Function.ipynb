{
 "cells": [
  {
   "cell_type": "code",
   "execution_count": 4,
   "id": "27d3d619",
   "metadata": {},
   "outputs": [
    {
     "name": "stdout",
     "output_type": "stream",
     "text": [
      "The sum of 5 and 7 is 12\n"
     ]
    }
   ],
   "source": [
    "# This program adds two numbers\n",
    "\n",
    "num1 = 5\n",
    "num2 = 7\n",
    "\n",
    "# Add two numbers\n",
    "sum = num1 + num2\n",
    "\n",
    "# Display the sum\n",
    "print('The sum of {0} and {1} is {2}'.format(num1, num2, sum))"
   ]
  },
  {
   "cell_type": "code",
   "execution_count": 6,
   "id": "47a0a27e",
   "metadata": {},
   "outputs": [
    {
     "name": "stdout",
     "output_type": "stream",
     "text": [
      "The sum of 5.7 and 7.3 is 13.0\n"
     ]
    }
   ],
   "source": [
    "# Adds two numbers with float\n",
    "\n",
    "num3 = 5.7\n",
    "num4 = 7.3\n",
    "\n",
    "# Add two numbers\n",
    "sum1 = num3 + num4\n",
    "\n",
    "# Display the sum\n",
    "print('The sum of {0} and {1} is {2}'.format(num3, num4, sum1))"
   ]
  },
  {
   "cell_type": "code",
   "execution_count": 8,
   "id": "d8eecb3d",
   "metadata": {},
   "outputs": [
    {
     "name": "stdout",
     "output_type": "stream",
     "text": [
      "Enter first number: 1\n",
      "Enter second number: 2\n",
      "The sum of 1 and 2 is 3.0\n"
     ]
    }
   ],
   "source": [
    "# Add Two Numbers With User Input\n",
    "# Store input numbers\n",
    "num5 = input('Enter first number: ')\n",
    "num6 = input('Enter second number: ')\n",
    "\n",
    "# Add two numbers\n",
    "sum2 = float(num5) + float(num6)\n",
    "\n",
    "# Display the sum\n",
    "print('The sum of {0} and {1} is {2}'.format(num5, num6, sum2))"
   ]
  },
  {
   "cell_type": "code",
   "execution_count": 9,
   "id": "d355c9a9",
   "metadata": {},
   "outputs": [
    {
     "name": "stdout",
     "output_type": "stream",
     "text": [
      "Enter first number: 2450.568\n",
      "Enter second number: 56428.638\n",
      "The sum of 2450.568 and 56428.638 is 58879.206\n"
     ]
    }
   ],
   "source": [
    "num7 = input('Enter first number: ')\n",
    "num8 = input('Enter second number: ')\n",
    "\n",
    "# Add two numbers\n",
    "sum3 = float(num7) + float(num8)\n",
    "\n",
    "# Display the sum\n",
    "print('The sum of {0} and {1} is {2}'.format(num7, num8, sum3))"
   ]
  },
  {
   "cell_type": "code",
   "execution_count": null,
   "id": "402bdf1c",
   "metadata": {},
   "outputs": [],
   "source": []
  }
 ],
 "metadata": {
  "kernelspec": {
   "display_name": "Python 3 (ipykernel)",
   "language": "python",
   "name": "python3"
  },
  "language_info": {
   "codemirror_mode": {
    "name": "ipython",
    "version": 3
   },
   "file_extension": ".py",
   "mimetype": "text/x-python",
   "name": "python",
   "nbconvert_exporter": "python",
   "pygments_lexer": "ipython3",
   "version": "3.8.8"
  }
 },
 "nbformat": 4,
 "nbformat_minor": 5
}
