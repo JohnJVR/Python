{
 "cells": [
  {
   "cell_type": "code",
   "execution_count": 4,
   "id": "876e3dc7",
   "metadata": {},
   "outputs": [],
   "source": [
    "# Input as String\n",
    "# convert sentence into words\n",
    "# join sentence in reverse order"
   ]
  },
  {
   "cell_type": "code",
   "execution_count": 2,
   "id": "516ef54b",
   "metadata": {},
   "outputs": [
    {
     "name": "stdout",
     "output_type": "stream",
     "text": [
      "lazy your coz sick just is trying without destinty your towards Running\n"
     ]
    }
   ],
   "source": [
    "sentence = \"Running towards your destiny without trying is just sick coz your lazy\"\n",
    "word_list = sentence.split()\n",
    "reversed_list = word_list[:: -1]\n",
    "reversed_sentence = \" \".join(reversed_list)\n",
    "print(reversed_sentence)"
   ]
  },
  {
   "cell_type": "code",
   "execution_count": 5,
   "id": "5c236bdb",
   "metadata": {},
   "outputs": [
    {
     "name": "stdout",
     "output_type": "stream",
     "text": [
      "Enter a sentence : Running towards your destiny without trying is just sick coz your lazy\n",
      "lazy your coz sick just is trying without destiny your towards Running\n"
     ]
    }
   ],
   "source": [
    "sentence = input(\"Enter a sentence :\")\n",
    "word_list = sentence.split()\n",
    "reversed_list1 = reversed(word_list) # instead of [:: -1] use reversed() function.\n",
    "reversed_sentence1 = \" \".join(reversed_list1)\n",
    "print(reversed_sentence1)"
   ]
  },
  {
   "cell_type": "code",
   "execution_count": null,
   "id": "a67c875a",
   "metadata": {},
   "outputs": [],
   "source": []
  }
 ],
 "metadata": {
  "kernelspec": {
   "display_name": "Python 3 (ipykernel)",
   "language": "python",
   "name": "python3"
  },
  "language_info": {
   "codemirror_mode": {
    "name": "ipython",
    "version": 3
   },
   "file_extension": ".py",
   "mimetype": "text/x-python",
   "name": "python",
   "nbconvert_exporter": "python",
   "pygments_lexer": "ipython3",
   "version": "3.8.8"
  }
 },
 "nbformat": 4,
 "nbformat_minor": 5
}
