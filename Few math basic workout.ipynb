{
 "cells": [
  {
   "cell_type": "code",
   "execution_count": 1,
   "id": "696e0a02",
   "metadata": {},
   "outputs": [
    {
     "name": "stdout",
     "output_type": "stream",
     "text": [
      "Enter a number 522\n",
      " The number is Even \n"
     ]
    }
   ],
   "source": [
    "number = input(\"Enter a number \")\n",
    "x = int(number)%2\n",
    "if x == 0:\n",
    "    print(\" The number is Even \")\n",
    "else:\n",
    "    print(\" The number is odd \")"
   ]
  },
  {
   "cell_type": "code",
   "execution_count": 2,
   "id": "4433d2a6",
   "metadata": {},
   "outputs": [
    {
     "name": "stdout",
     "output_type": "stream",
     "text": [
      "Enter a number 21\n",
      " The number is odd \n"
     ]
    }
   ],
   "source": [
    "number = input(\"Enter a number \")\n",
    "x = int(number)%2\n",
    "if x == 0:\n",
    "    print(\" The number is Even \")\n",
    "else:\n",
    "    print(\" The number is odd \")"
   ]
  },
  {
   "cell_type": "code",
   "execution_count": 3,
   "id": "f561fe3a",
   "metadata": {},
   "outputs": [
    {
     "name": "stdout",
     "output_type": "stream",
     "text": [
      "Enter the length of side a: 4\n",
      "Enter the length of side b: 5\n",
      "Enter the length of side c: 6\n",
      " Area of the triangle is:  9.921567416492215\n"
     ]
    }
   ],
   "source": [
    "# Area of a Triangle\n",
    "import math\n",
    "a = float(input(\"Enter the length of side a: \"))\n",
    "b = float(input(\"Enter the length of side b: \"))\n",
    "c = float(input(\"Enter the length of side c: \"))\n",
    "s = (a+b+c)/2\n",
    "area = math.sqrt(s*(s-a)*(s-b)*(s-c))\n",
    "print(\" Area of the triangle is: \", area)"
   ]
  },
  {
   "cell_type": "code",
   "execution_count": 5,
   "id": "7213594b",
   "metadata": {},
   "outputs": [
    {
     "name": "stdout",
     "output_type": "stream",
     "text": [
      "Enter the count of numbers: 2\n",
      "Enter an integer: 2\n",
      "Enter an integer: 1\n",
      " The average is:  1.5\n"
     ]
    }
   ],
   "source": [
    "# Python program to find out the average of a set of integers\n",
    "count = int(input(\"Enter the count of numbers: \"))\n",
    "i = 0\n",
    "sum = 0\n",
    "for i in range(count):\n",
    "    x = int(input(\"Enter an integer: \"))\n",
    "    sum = sum + x\n",
    "avg = sum/count\n",
    "print(\" The average is: \", avg)"
   ]
  },
  {
   "cell_type": "code",
   "execution_count": 8,
   "id": "a5591a67",
   "metadata": {},
   "outputs": [
    {
     "name": "stdout",
     "output_type": "stream",
     "text": [
      "Enter the number of real numbers: 3\n",
      "Enter a real number: 1\n",
      "Enter a real number: 2\n",
      "Enter a real number: 3\n",
      "The product of the numbers is:  6.0\n"
     ]
    }
   ],
   "source": [
    "# Python program to find the product of a set of real numbers\n",
    "i = 0\n",
    "product = 1\n",
    "count = int(input(\"Enter the number of real numbers: \"))\n",
    "for i in range(count):\n",
    "    x = float(input(\"Enter a real number: \"))\n",
    "    product = product * x\n",
    "print(\"The product of the numbers is: \", product)"
   ]
  },
  {
   "cell_type": "code",
   "execution_count": 9,
   "id": "cd3fa0ab",
   "metadata": {},
   "outputs": [
    {
     "name": "stdout",
     "output_type": "stream",
     "text": [
      "Input the radius of the circle: 5.3\n",
      "The circumference of the circle is:  33.3008821280518\n",
      "The area of the circle is:  88.24733763933727\n"
     ]
    }
   ],
   "source": [
    "# Python program to find the circumference and area of a circle with a given radius\n",
    "import math\n",
    "r = float(input(\"Input the radius of the circle: \"))\n",
    "c = 2 * math.pi * r\n",
    "area = math.pi * r * r\n",
    "print(\"The circumference of the circle is: \", c)\n",
    "print(\"The area of the circle is: \", area)"
   ]
  },
  {
   "cell_type": "code",
   "execution_count": 10,
   "id": "79dfc1c1",
   "metadata": {},
   "outputs": [
    {
     "name": "stdout",
     "output_type": "stream",
     "text": [
      "Enter an integer: 20\n",
      "20 is a multile of 5\n"
     ]
    }
   ],
   "source": [
    "#  Python program to check whether the given integer is a multiple of 5\n",
    "number = int(input(\"Enter an integer: \"))\n",
    "if(number%5==0):\n",
    "    print(number, \"is a multile of 5\")\n",
    "else:\n",
    "    print(number, \"is not a multiple of 5\")"
   ]
  },
  {
   "cell_type": "code",
   "execution_count": 11,
   "id": "2eea234b",
   "metadata": {},
   "outputs": [
    {
     "name": "stdout",
     "output_type": "stream",
     "text": [
      "Enter an integer: 23\n",
      "23 is not a multiple of 5\n"
     ]
    }
   ],
   "source": [
    "number = int(input(\"Enter an integer: \"))\n",
    "if(number%5==0):\n",
    "    print(number, \"is a multile of 5\")\n",
    "else:\n",
    "    print(number, \"is not a multiple of 5\")"
   ]
  },
  {
   "cell_type": "code",
   "execution_count": 12,
   "id": "e249637d",
   "metadata": {},
   "outputs": [
    {
     "name": "stdout",
     "output_type": "stream",
     "text": [
      "Enter an integer: 44\n",
      "44 is not a multiple of both 5 and 7\n"
     ]
    }
   ],
   "source": [
    "# Python program to check whether the given integer is a multiple of both 5 and 7\n",
    "number = int(input(\"Enter an integer: \"))\n",
    "if((number%5==0)and(number%7==0)):\n",
    "    print(number, \"is a multiple of both 5 and 7\")\n",
    "else:\n",
    "    print(number, \"is not a multiple of both 5 and 7\")"
   ]
  },
  {
   "cell_type": "code",
   "execution_count": 13,
   "id": "80e83540",
   "metadata": {},
   "outputs": [
    {
     "name": "stdout",
     "output_type": "stream",
     "text": [
      "Enter an integer: 35\n",
      "35 is a multiple of both 5 and 7\n"
     ]
    }
   ],
   "source": [
    "number = int(input(\"Enter an integer: \"))\n",
    "if((number%5==0)and(number%7==0)):\n",
    "    print(number, \"is a multiple of both 5 and 7\")\n",
    "else:\n",
    "    print(number, \"is not a multiple of both 5 and 7\")"
   ]
  },
  {
   "cell_type": "code",
   "execution_count": 16,
   "id": "23d19987",
   "metadata": {},
   "outputs": [
    {
     "name": "stdout",
     "output_type": "stream",
     "text": [
      "Enter a positive integer: 564\n",
      "465\n"
     ]
    }
   ],
   "source": [
    "# Python program to display the given integer in reverse manner\n",
    "number = int(input(\"Enter a positive integer: \"))\n",
    "rev = 0\n",
    "while(number!=0):\n",
    "    digit = number%10\n",
    "    rev = (rev*10)+digit\n",
    "    number = number//10\n",
    "print(rev)"
   ]
  },
  {
   "cell_type": "code",
   "execution_count": 17,
   "id": "fd5b84cd",
   "metadata": {},
   "outputs": [
    {
     "name": "stdout",
     "output_type": "stream",
     "text": [
      "Enter an integer greater than 1: 13\n",
      "13 is a prime number\n"
     ]
    }
   ],
   "source": [
    "# Python program to check whether the given integer is a prime number or not\n",
    "num = int(input(\"Enter an integer greater than 1: \"))\n",
    "isprime = 1 #assuming that num is prime\n",
    "for i in range(2,num//2):\n",
    "    if (num%i==0):\n",
    "        isprime = 0\n",
    "        break\n",
    "if(isprime==1):\n",
    "    print(num, \"is a prime number\")\n",
    "else:\n",
    "    print(num, \"is not a prime number\")"
   ]
  },
  {
   "cell_type": "code",
   "execution_count": 18,
   "id": "94d3d9f0",
   "metadata": {},
   "outputs": [
    {
     "name": "stdout",
     "output_type": "stream",
     "text": [
      "Enter an integer greater than 1: 21\n",
      "21 is not a prime number\n"
     ]
    }
   ],
   "source": [
    "num = int(input(\"Enter an integer greater than 1: \"))\n",
    "isprime = 1 #assuming that num is prime\n",
    "for i in range(2,num//2):\n",
    "    if (num%i==0):\n",
    "        isprime = 0\n",
    "        break\n",
    "if(isprime==1):\n",
    "    print(num, \"is a prime number\")\n",
    "else:\n",
    "    print(num, \"is not a prime number\")"
   ]
  },
  {
   "cell_type": "code",
   "execution_count": 19,
   "id": "2814e3ea",
   "metadata": {},
   "outputs": [],
   "source": []
  },
  {
   "cell_type": "code",
   "execution_count": null,
   "id": "b89c785d",
   "metadata": {},
   "outputs": [],
   "source": []
  }
 ],
 "metadata": {
  "kernelspec": {
   "display_name": "Python 3 (ipykernel)",
   "language": "python",
   "name": "python3"
  },
  "language_info": {
   "codemirror_mode": {
    "name": "ipython",
    "version": 3
   },
   "file_extension": ".py",
   "mimetype": "text/x-python",
   "name": "python",
   "nbconvert_exporter": "python",
   "pygments_lexer": "ipython3",
   "version": "3.8.8"
  }
 },
 "nbformat": 4,
 "nbformat_minor": 5
}
