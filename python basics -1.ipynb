{
 "cells": [
  {
   "cell_type": "code",
   "execution_count": 2,
   "id": "dc900889",
   "metadata": {},
   "outputs": [
    {
     "name": "stdout",
     "output_type": "stream",
     "text": [
      "india\n"
     ]
    }
   ],
   "source": [
    "print (\"india\")"
   ]
  },
  {
   "cell_type": "code",
   "execution_count": 3,
   "id": "d60ef793",
   "metadata": {},
   "outputs": [
    {
     "data": {
      "text/plain": [
       "60"
      ]
     },
     "execution_count": 3,
     "metadata": {},
     "output_type": "execute_result"
    }
   ],
   "source": [
    "10+50"
   ]
  },
  {
   "cell_type": "code",
   "execution_count": 4,
   "id": "4511e2d3",
   "metadata": {},
   "outputs": [
    {
     "data": {
      "text/plain": [
       "250"
      ]
     },
     "execution_count": 4,
     "metadata": {},
     "output_type": "execute_result"
    }
   ],
   "source": [
    "100+150"
   ]
  },
  {
   "cell_type": "code",
   "execution_count": 5,
   "id": "fa75d13f",
   "metadata": {},
   "outputs": [
    {
     "data": {
      "text/plain": [
       "400"
      ]
     },
     "execution_count": 5,
     "metadata": {},
     "output_type": "execute_result"
    }
   ],
   "source": [
    "40*2*5"
   ]
  },
  {
   "cell_type": "markdown",
   "id": "a4fddc3c",
   "metadata": {},
   "source": [
    "### Store a variable"
   ]
  },
  {
   "cell_type": "code",
   "execution_count": 6,
   "id": "8594e3a8",
   "metadata": {},
   "outputs": [],
   "source": [
    "x=14"
   ]
  },
  {
   "cell_type": "code",
   "execution_count": 7,
   "id": "1955979c",
   "metadata": {},
   "outputs": [
    {
     "data": {
      "text/plain": [
       "14"
      ]
     },
     "execution_count": 7,
     "metadata": {},
     "output_type": "execute_result"
    }
   ],
   "source": [
    "x"
   ]
  },
  {
   "cell_type": "code",
   "execution_count": 8,
   "id": "1fb77a16",
   "metadata": {},
   "outputs": [
    {
     "name": "stdout",
     "output_type": "stream",
     "text": [
      "14\n"
     ]
    }
   ],
   "source": [
    "print (x)"
   ]
  },
  {
   "cell_type": "markdown",
   "id": "5b91f3c1",
   "metadata": {},
   "source": [
    "### value 14 is assigned to variable x"
   ]
  },
  {
   "cell_type": "code",
   "execution_count": 9,
   "id": "b9d788ad",
   "metadata": {},
   "outputs": [
    {
     "name": "stdout",
     "output_type": "stream",
     "text": [
      "<class 'int'>\n"
     ]
    }
   ],
   "source": [
    "print(type(x))"
   ]
  },
  {
   "cell_type": "markdown",
   "id": "152ea828",
   "metadata": {},
   "source": [
    "#### Type of data x holding"
   ]
  },
  {
   "cell_type": "markdown",
   "id": "f1f19030",
   "metadata": {},
   "source": [
    "### User input fn"
   ]
  },
  {
   "cell_type": "code",
   "execution_count": 11,
   "id": "57bce5db",
   "metadata": {},
   "outputs": [
    {
     "name": "stdout",
     "output_type": "stream",
     "text": [
      "enter input a:50\n",
      "enter input b:70\n",
      "Addition of two numbers a and b is: 120\n"
     ]
    }
   ],
   "source": [
    "a=int(input('enter input a:'))\n",
    "b=int(input('enter input b:'))\n",
    "print('Addition of two numbers a and b is:',(a+b))"
   ]
  },
  {
   "cell_type": "code",
   "execution_count": 12,
   "id": "61013c5d",
   "metadata": {},
   "outputs": [
    {
     "name": "stdout",
     "output_type": "stream",
     "text": [
      "Subraction of two number a and b is: -20\n"
     ]
    }
   ],
   "source": [
    "print('Subraction of two number a and b is:', (a-b))"
   ]
  },
  {
   "cell_type": "code",
   "execution_count": 13,
   "id": "e72ef8f8",
   "metadata": {},
   "outputs": [
    {
     "name": "stdout",
     "output_type": "stream",
     "text": [
      "Multiplication of two numbers a and b is: 3500\n"
     ]
    }
   ],
   "source": [
    "print('Multiplication of two numbers a and b is:',(a*b))"
   ]
  },
  {
   "cell_type": "code",
   "execution_count": 14,
   "id": "18acd199",
   "metadata": {},
   "outputs": [
    {
     "name": "stdout",
     "output_type": "stream",
     "text": [
      "Division of two numbers a and b is: 0.7142857142857143\n"
     ]
    }
   ],
   "source": [
    "print('Division of two numbers a and b is:',(a/b))"
   ]
  },
  {
   "cell_type": "code",
   "execution_count": 19,
   "id": "6cb9efd4",
   "metadata": {},
   "outputs": [
    {
     "name": "stdout",
     "output_type": "stream",
     "text": [
      "Division of two numbers b and a is: 1.4\n"
     ]
    }
   ],
   "source": [
    "print('Division of two numbers b and a is:',(b/a))"
   ]
  },
  {
   "cell_type": "markdown",
   "id": "e326e975",
   "metadata": {},
   "source": [
    "#####The % symbol in Python is called the Modulo Operator. It returns the remainder of dividing the left hand operand by right hand operand. It's used to get the remainder of a division problem. The modulo operator is considered an arithmetic operation"
   ]
  },
  {
   "cell_type": "code",
   "execution_count": 18,
   "id": "a82757d5",
   "metadata": {},
   "outputs": [
    {
     "name": "stdout",
     "output_type": "stream",
     "text": [
      "Modulo operator of two numbers b and a is: 20\n"
     ]
    }
   ],
   "source": [
    "print('Modulo operator of two numbers b and a is:',(b%a))"
   ]
  },
  {
   "cell_type": "code",
   "execution_count": 17,
   "id": "d237c4c1",
   "metadata": {},
   "outputs": [
    {
     "name": "stdout",
     "output_type": "stream",
     "text": [
      "Modulo operator of two numbers a and b is: 50\n"
     ]
    }
   ],
   "source": [
    "print('Modulo operator of two numbers a and b is:',(a%b))"
   ]
  },
  {
   "cell_type": "markdown",
   "id": "b3ea39aa",
   "metadata": {},
   "source": [
    "## Data Types"
   ]
  },
  {
   "cell_type": "code",
   "execution_count": 21,
   "id": "36101b57",
   "metadata": {},
   "outputs": [
    {
     "data": {
      "text/plain": [
       "int"
      ]
     },
     "execution_count": 21,
     "metadata": {},
     "output_type": "execute_result"
    }
   ],
   "source": [
    "c=10\n",
    "type(c)"
   ]
  },
  {
   "cell_type": "code",
   "execution_count": 22,
   "id": "878385ee",
   "metadata": {},
   "outputs": [
    {
     "data": {
      "text/plain": [
       "float"
      ]
     },
     "execution_count": 22,
     "metadata": {},
     "output_type": "execute_result"
    }
   ],
   "source": [
    "d=3.15\n",
    "type(d)"
   ]
  },
  {
   "cell_type": "code",
   "execution_count": 24,
   "id": "de07f929",
   "metadata": {},
   "outputs": [
    {
     "data": {
      "text/plain": [
       "complex"
      ]
     },
     "execution_count": 24,
     "metadata": {},
     "output_type": "execute_result"
    }
   ],
   "source": [
    "e=7+10j\n",
    "type(e)"
   ]
  },
  {
   "cell_type": "code",
   "execution_count": 25,
   "id": "b5829c32",
   "metadata": {},
   "outputs": [
    {
     "data": {
      "text/plain": [
       "bool"
      ]
     },
     "execution_count": 25,
     "metadata": {},
     "output_type": "execute_result"
    }
   ],
   "source": [
    "f=True\n",
    "type(f)"
   ]
  },
  {
   "cell_type": "markdown",
   "id": "896799a2",
   "metadata": {},
   "source": [
    "#### Objects in python"
   ]
  },
  {
   "cell_type": "code",
   "execution_count": 26,
   "id": "7ec220ee",
   "metadata": {},
   "outputs": [],
   "source": [
    "# List - are mutable\n",
    "\n",
    "L1 = ['John', 40, 'IND', 190.9]\n"
   ]
  },
  {
   "cell_type": "code",
   "execution_count": 27,
   "id": "f043ae00",
   "metadata": {},
   "outputs": [
    {
     "data": {
      "text/plain": [
       "['John', 40, 'IND', 190.9]"
      ]
     },
     "execution_count": 27,
     "metadata": {},
     "output_type": "execute_result"
    }
   ],
   "source": [
    "L1"
   ]
  },
  {
   "cell_type": "code",
   "execution_count": 28,
   "id": "f9675e43",
   "metadata": {},
   "outputs": [
    {
     "data": {
      "text/plain": [
       "list"
      ]
     },
     "execution_count": 28,
     "metadata": {},
     "output_type": "execute_result"
    }
   ],
   "source": [
    "type(L1)"
   ]
  },
  {
   "cell_type": "markdown",
   "id": "67e718a2",
   "metadata": {},
   "source": [
    "#### we can add the values in the list using append fn"
   ]
  },
  {
   "cell_type": "code",
   "execution_count": 29,
   "id": "7b4aa839",
   "metadata": {},
   "outputs": [],
   "source": [
    "L1.append('nani')"
   ]
  },
  {
   "cell_type": "code",
   "execution_count": 30,
   "id": "2e7005da",
   "metadata": {},
   "outputs": [
    {
     "data": {
      "text/plain": [
       "['John', 40, 'IND', 190.9, 'nani']"
      ]
     },
     "execution_count": 30,
     "metadata": {},
     "output_type": "execute_result"
    }
   ],
   "source": [
    "L1"
   ]
  },
  {
   "cell_type": "code",
   "execution_count": 31,
   "id": "b0fe0a41",
   "metadata": {},
   "outputs": [
    {
     "data": {
      "text/plain": [
       "list"
      ]
     },
     "execution_count": 31,
     "metadata": {},
     "output_type": "execute_result"
    }
   ],
   "source": [
    "type(L1)"
   ]
  },
  {
   "cell_type": "code",
   "execution_count": 34,
   "id": "5b9bd5cb",
   "metadata": {},
   "outputs": [],
   "source": [
    "# Tuples - Are not mutable (we cannot cnange the values)\n",
    "T1=('BMW','Audi','Benz','Jaguar')"
   ]
  },
  {
   "cell_type": "code",
   "execution_count": 35,
   "id": "2a4a78b8",
   "metadata": {},
   "outputs": [
    {
     "name": "stdout",
     "output_type": "stream",
     "text": [
      "('BMW', 'Audi', 'Benz', 'Jaguar')\n"
     ]
    }
   ],
   "source": [
    "print(T1)"
   ]
  },
  {
   "cell_type": "code",
   "execution_count": 36,
   "id": "8f913dcd",
   "metadata": {},
   "outputs": [
    {
     "data": {
      "text/plain": [
       "tuple"
      ]
     },
     "execution_count": 36,
     "metadata": {},
     "output_type": "execute_result"
    }
   ],
   "source": [
    "type(T1)"
   ]
  },
  {
   "cell_type": "code",
   "execution_count": 38,
   "id": "ff4d0848",
   "metadata": {},
   "outputs": [
    {
     "ename": "AttributeError",
     "evalue": "'tuple' object has no attribute 'append'",
     "output_type": "error",
     "traceback": [
      "\u001b[1;31m---------------------------------------------------------------------------\u001b[0m",
      "\u001b[1;31mAttributeError\u001b[0m                            Traceback (most recent call last)",
      "Input \u001b[1;32mIn [38]\u001b[0m, in \u001b[0;36m<cell line: 1>\u001b[1;34m()\u001b[0m\n\u001b[1;32m----> 1\u001b[0m \u001b[43mT1\u001b[49m\u001b[38;5;241;43m.\u001b[39;49m\u001b[43mappend\u001b[49m(\u001b[38;5;124m'\u001b[39m\u001b[38;5;124mHonda\u001b[39m\u001b[38;5;124m'\u001b[39m)\n",
      "\u001b[1;31mAttributeError\u001b[0m: 'tuple' object has no attribute 'append'"
     ]
    }
   ],
   "source": [
    "T1.append('Honda') # Tuples are not mutable."
   ]
  },
  {
   "cell_type": "code",
   "execution_count": 40,
   "id": "ad5844b1",
   "metadata": {},
   "outputs": [
    {
     "name": "stdout",
     "output_type": "stream",
     "text": [
      "{'Name': 'John', 'Age': 40, 'Salary': '6.5LPM', 'Company': 'IBM'}\n",
      "<class 'dict'>\n"
     ]
    }
   ],
   "source": [
    "# Dictionary - Mutable with {} braces\n",
    "\n",
    "Emp = {\"Name\": \"John\",\"Age\": 40, \"Salary\": \"6.5LPM\", \"Company\": \"IBM\"}\n",
    "print(Emp)\n",
    "print(type(Emp))\n"
   ]
  },
  {
   "cell_type": "code",
   "execution_count": 42,
   "id": "357b8f57",
   "metadata": {},
   "outputs": [
    {
     "name": "stdout",
     "output_type": "stream",
     "text": [
      "{'jan', 'feb', 'april', 'mar'}\n",
      "<class 'set'>\n"
     ]
    }
   ],
   "source": [
    "# set - {} only unique values\n",
    "month={\"jan\",\"feb\",\"mar\",\"april\"}\n",
    "print(month)\n",
    "print(type(month))"
   ]
  },
  {
   "cell_type": "code",
   "execution_count": 45,
   "id": "7273b444",
   "metadata": {},
   "outputs": [
    {
     "name": "stdout",
     "output_type": "stream",
     "text": [
      "{'jan', 'feb', 'april', 'mar'}\n",
      "<class 'set'>\n"
     ]
    }
   ],
   "source": [
    "months={\"jan\",\"feb\",\"mar\",\"april\",\"jan\",\"feb\"}\n",
    "print(month) # set has only unique values, it doesn't repeat the values.\n",
    "print(type(month))"
   ]
  },
  {
   "cell_type": "markdown",
   "id": "13d86f32",
   "metadata": {},
   "source": [
    "#### Index and slicing"
   ]
  },
  {
   "cell_type": "code",
   "execution_count": 46,
   "id": "34b82371",
   "metadata": {},
   "outputs": [
    {
     "name": "stdout",
     "output_type": "stream",
     "text": [
      "['John', 40, 'IND', 190.9, 'nani']\n"
     ]
    }
   ],
   "source": [
    "print(L1)"
   ]
  },
  {
   "cell_type": "code",
   "execution_count": 47,
   "id": "cfad430e",
   "metadata": {},
   "outputs": [
    {
     "name": "stdout",
     "output_type": "stream",
     "text": [
      "40\n"
     ]
    }
   ],
   "source": [
    "print(L1[1])"
   ]
  },
  {
   "cell_type": "code",
   "execution_count": 48,
   "id": "0b227e3a",
   "metadata": {},
   "outputs": [
    {
     "name": "stdout",
     "output_type": "stream",
     "text": [
      "John\n"
     ]
    }
   ],
   "source": [
    "print(L1[0])"
   ]
  },
  {
   "cell_type": "code",
   "execution_count": 49,
   "id": "d833ce53",
   "metadata": {},
   "outputs": [
    {
     "name": "stdout",
     "output_type": "stream",
     "text": [
      "nani\n"
     ]
    }
   ],
   "source": [
    "print(L1[-1])"
   ]
  },
  {
   "cell_type": "code",
   "execution_count": 50,
   "id": "b48b27ce",
   "metadata": {},
   "outputs": [
    {
     "name": "stdout",
     "output_type": "stream",
     "text": [
      "nani\n"
     ]
    }
   ],
   "source": [
    "print(L1[4])"
   ]
  },
  {
   "cell_type": "code",
   "execution_count": null,
   "id": "168d49d1",
   "metadata": {},
   "outputs": [],
   "source": []
  }
 ],
 "metadata": {
  "kernelspec": {
   "display_name": "Python 3 (ipykernel)",
   "language": "python",
   "name": "python3"
  },
  "language_info": {
   "codemirror_mode": {
    "name": "ipython",
    "version": 3
   },
   "file_extension": ".py",
   "mimetype": "text/x-python",
   "name": "python",
   "nbconvert_exporter": "python",
   "pygments_lexer": "ipython3",
   "version": "3.8.8"
  }
 },
 "nbformat": 4,
 "nbformat_minor": 5
}
